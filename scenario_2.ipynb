{
  "nbformat": 4,
  "nbformat_minor": 0,
  "metadata": {
    "colab": {
      "provenance": []
    },
    "kernelspec": {
      "name": "python3",
      "display_name": "Python 3"
    },
    "language_info": {
      "name": "python"
    }
  },
  "cells": [
    {
      "cell_type": "code",
      "source": [
        "#Data Visualization"
      ],
      "metadata": {
        "id": "r6Q2UITWFjzy"
      },
      "execution_count": 9,
      "outputs": []
    },
    {
      "cell_type": "code",
      "execution_count": 14,
      "metadata": {
        "id": "jYywWc7eCRjA"
      },
      "outputs": [],
      "source": [
        "# scripts/vis.py\n",
        "import os\n",
        "import pandas as pd\n",
        "import matplotlib.pyplot as plt\n",
        "from matplotlib.backends.backend_pdf import PdfPages\n",
        "\n",
        "def plot_signals(folder_path):\n",
        "    # Load signals\n",
        "    nasal = pd.read_csv(os.path.join(folder_path, \"Flow - 30-05-2024.txt\"), delim_whitespace=True, names=[\"time\", \"value\"])\n",
        "    thoracic = pd.read_csv(os.path.join(folder_path, \"Thorac - 30-05-2024.txt\"), delim_whitespace=True, names=[\"time\", \"value\"])\n",
        "    spo2 = pd.read_csv(os.path.join(folder_path, \"SPO2 - 30-05-2024.txt\"), delim_whitespace=True, names=[\"time\", \"value\"])\n",
        "\n",
        "    # Load events\n",
        "    events = pd.read_csv(os.path.join(folder_path, \"flow_events.csv\"))\n",
        "\n",
        "    # Convert time to datetime if necessary\n",
        "    for df in [nasal, thoracic, spo2]:\n",
        "        df['time'] = pd.to_datetime(df['time'], unit='s')\n",
        "\n",
        "    events['start_time'] = pd.to_datetime(events['start_time'], unit='s')\n",
        "    events['end_time'] = pd.to_datetime(events['end_time'], unit='s')\n",
        "\n",
        "    # Plotting\n",
        "    fig, axs = plt.subplots(3, 1, figsize=(16, 10), sharex=True)\n",
        "\n",
        "    axs[0].plot(nasal['time'], nasal['value'], label=\"Nasal Airflow\")\n",
        "    axs[1].plot(thoracic['time'], thoracic['value'], label=\"Thoracic Movement\", color='green')\n",
        "    axs[2].plot(spo2['time'], spo2['value'], label=\"SpO₂\", color='red')\n",
        "\n",
        "    for _, row in events.iterrows():\n",
        "        for ax in axs:\n",
        "            ax.axvspan(row['start_time'], row['end_time'], color='orange', alpha=0.3)\n",
        "\n",
        "    for ax in axs:\n",
        "        ax.legend()\n",
        "        ax.set_ylabel(\"Amplitude\")\n",
        "\n",
        "    axs[2].set_xlabel(\"Time\")\n",
        "\n",
        "    os.makedirs(\"Visualizations\", exist_ok=True)\n",
        "    out_path = os.path.join(\"Visualizations\", f\"{os.path.basename(folder_path)}_visualization.pdf\")\n",
        "    with PdfPages(out_path) as pdf:\n",
        "        pdf.savefig(fig)\n",
        "        plt.close()\n",
        "\n"
      ]
    },
    {
      "cell_type": "code",
      "source": [
        "# Data Cleaning"
      ],
      "metadata": {
        "id": "gUK6hJGuFttL"
      },
      "execution_count": null,
      "outputs": []
    },
    {
      "cell_type": "code",
      "source": [
        "# Add this to a utils.py or preprocessing.py module\n",
        "from scipy.signal import butter, filtfilt\n",
        "\n",
        "def bandpass_filter(signal, fs, low=0.17, high=0.4, order=4):\n",
        "    nyquist = 0.5 * fs\n",
        "    lowcut = low / nyquist\n",
        "    highcut = high / nyquist\n",
        "    b, a = butter(order, [lowcut, highcut], btype='band')\n",
        "    return filtfilt(b, a, signal)\n"
      ],
      "metadata": {
        "id": "olb6-kKFFPWn"
      },
      "execution_count": 15,
      "outputs": []
    },
    {
      "cell_type": "code",
      "source": [
        "# Dataset Creation"
      ],
      "metadata": {
        "id": "QH-7fkPgGcj0"
      },
      "execution_count": null,
      "outputs": []
    },
    {
      "cell_type": "code",
      "source": [
        "# scripts/create_dataset.py\n",
        "import os\n",
        "import numpy as np\n",
        "import pandas as pd\n",
        "from datetime import timedelta\n",
        "import argparse\n",
        "\n",
        "def overlap(a_start, a_end, b_start, b_end):\n",
        "    latest_start = max(a_start, b_start)\n",
        "    earliest_end = min(a_end, b_end)\n",
        "    overlap_time = max(0, (earliest_end - latest_start).total_seconds())\n",
        "    return overlap_time\n",
        "\n",
        "def create_windows(signal_df, events_df, win_len=30, overlap=0.5):\n",
        "    signals = signal_df.set_index('time')\n",
        "    start = signals.index[0]\n",
        "    end = signals.index[-1]\n",
        "    step = timedelta(seconds=win_len * (1 - overlap))\n",
        "    windows = []\n",
        "    labels = []\n",
        "\n",
        "    while start + timedelta(seconds=win_len) <= end:\n",
        "        stop = start + timedelta(seconds=win_len)\n",
        "        segment = signals[start:stop]\n",
        "        window_label = \"Normal\"\n",
        "        for _, row in events_df.iterrows():\n",
        "            ov = overlap(start, stop, row['start_time'], row['end_time'])\n",
        "            if ov >= win_len * 0.5:\n",
        "                window_label = row['event']\n",
        "                break\n",
        "        windows.append(segment['value'].values)\n",
        "        labels.append(window_label)\n",
        "        start += step\n",
        "\n",
        "    return windows, labels\n",
        "\n",
        "def process_participant(folder):\n",
        "    nasal = pd.read_csv(os.path.join(folder, \"Flow - 30-052024.txt\"), delim_whitespace=True, names=[\"time\", \"value\"])\n",
        "    nasal['time'] = pd.to_datetime(nasal['time'], unit='s')\n",
        "    events = pd.read_csv(os.path.join(folder, \"flow_events.csv\"))\n",
        "    events['start_time'] = pd.to_datetime(events['start_time'], unit='s')\n",
        "    events['end_time'] = pd.to_datetime(events['end_time'], unit='s')\n",
        "    return create_windows(nasal, events)\n",
        "\n",
        "def save_dataset(participant_dirs, out_dir):\n",
        "    X, y = [], []\n",
        "    for participant in participant_dirs:\n",
        "        windows, labels = process_participant(participant)\n",
        "        X.extend(windows)\n",
        "        y.extend(labels)\n",
        "    df = pd.DataFrame({'signal': X, 'label': y})\n",
        "    os.makedirs(out_dir, exist_ok=True)\n",
        "    df.to_pickle(os.path.join(out_dir, \"breathing_dataset.pkl\"))\n",
        "\n"
      ],
      "metadata": {
        "id": "IEsZR8WvFYBV"
      },
      "execution_count": 16,
      "outputs": []
    }
  ]
}